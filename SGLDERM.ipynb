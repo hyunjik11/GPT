{
 "cells": [
  {
   "cell_type": "code",
   "execution_count": null,
   "metadata": {
    "collapsed": true
   },
   "outputs": [],
   "source": [
    "#implementation with batches\n",
    "module GPT_SGLD\n",
    "\n",
    "using Distributions\n",
    "\n",
    "export proj,geod,GPT_SGLDERM\n",
    "    \n",
    "# define proj for Stiefel manifold\n",
    "function proj(U,V)\n",
    "    return V-U*(U'*V+V'*U)/2\n",
    "end\n",
    "\n",
    "# define geod for Stiefel manifold\n",
    "function geod(U,mom,t)\n",
    "    A=U'*mom\n",
    "    temp=[A -mom'*mom;eye(r) A]\n",
    "    E=exp(t*temp)\n",
    "    return [U mom]*E[:,1:r]*exp(-t*A)\n",
    "end\n",
    "\n",
    "function GPT_SGLDERM(phi,y,sigma,sigma_w,r,Q,m,epsw,epsU,maxepoch)\n",
    "    # phi is the D by n by N array of features where phi[k,:,i]=phi^(k)(x_i)\n",
    "    # sigma is the s.d. of the observed values\n",
    "    # sigma_w is the s.d. for the Guassian prior on w\n",
    "    # epsw,epsU are the epsilons for w and U resp.\n",
    "    # maxepoch is the number of sweeps through whole dataset\n",
    "    \n",
    "    D,n,N=size(phi)\n",
    "    numbatches=ceil(N/m)\n",
    "    \n",
    "    # initialise w,U^(k)\n",
    "    w_store=Array(Float64,Q,numbatches*maxepoch)\n",
    "    U_store=Array(Float64,n,r,D,numbatches*maxepoch)\n",
    "    w=sigma_w*randn(Q)\n",
    "    U=Array(Float64,n,r,D)\n",
    "    for k=1:D\n",
    "        Z=randn(r,n)\n",
    "        U[:,:,k]=transpose(\\(sqrtm(Z*Z'),Z)) #sample uniformly from V_{n,r}\n",
    "    end\n",
    "    \n",
    "    # fix the random non-zero locations of w\n",
    "    I=rand(DiscreteUniform(1, r),Q,D) \n",
    "    # so I_qd=index of dth dim of qth non-zero\n",
    "    \n",
    "    for epoch=1:maxepoch\n",
    "        #randomly permute training data and divide into mini_batches of size m\n",
    "        perm=randperm(N)\n",
    "        phi=phi[:,:,perm]; y=y[perm];\n",
    "        \n",
    "        # run SGLD on w and SGLDERM on U\n",
    "        for batch=1:numbatches\n",
    "            # random samples for the stochastic gradient\n",
    "            idx=(m*(batch-1)+1):min(m*batch,N)\n",
    "            phi_batch=phi[:,:,idx]; y_batch=y[idx];\n",
    "            batch_size=length(idx) #this is m except for last batch\n",
    "            # compute <phi^(k)(x_i),U^(k)_{.l}> for all k,l,batch and store in temp\n",
    "            temp=Array(Float64,D,r,batch_size)\n",
    "            # compute V st V[q,i]=prod_{k=1 to D}(temp[k,I[q,k],i])\n",
    "            V=Array(Float64,Q,batch_size)\n",
    "            # compute fhat where fhat[i]=V[:,i]'w\n",
    "            fhat=Array(Float64,batch_size)\n",
    "            for i=1:batch_size\n",
    "                for k=1:D\n",
    "                    temp[k,:,i]=phi_batch[k,:,i]*U[:,:,k] \n",
    "                end\n",
    "                for q=1:Q\n",
    "                    V[q,i]=prod(diag(temp[:,vec(I[q,:]),i]))\n",
    "                end\n",
    "                fhat[i]=transpose(V[:,i])*w\n",
    "            end\n",
    "\n",
    "            # now can compute gradw, the stochastic gradient of log post wrt w\n",
    "            gradw=((N/batch_size)*V*(y_batch-fhat)-w)/(2*sigma_w^2)\n",
    "\n",
    "            # compute U_phi[q,i,k]=expression in big brackets in (11)\n",
    "            U_phi=Array(Float64,Q,batch_size,D)\n",
    "            for k=1:D\n",
    "                U_phi[:,:,k]=V./reshape(temp[k,I[:,k],:],Q,batch_size)\n",
    "            end\n",
    "\n",
    "            # now compute a_l^(k)(x_i) for l=1,...,r k=1,..,D and store in A\n",
    "            A=zeros(r,D,batch_size)\n",
    "            for i=1:batch_size\n",
    "                for l in unique(I[:,k])\n",
    "                    index=findin(I[:,k],l) #I_l\n",
    "                    A[l,:,i]=transpose(reshape(U_phi[index,i,:],length(index),D))*w[index] \n",
    "                end\n",
    "            end\n",
    "\n",
    "            # compute Psi as in (12)\n",
    "            Psi=Array(Float64,n*r,batch_size,D)\n",
    "            for i=1:batch_size\n",
    "                for k=1:D\n",
    "                    Psi[:,i,k]=kron(A[:,k,i],vec(phi_batch[k,:,i]))\n",
    "                end\n",
    "            end\n",
    "\n",
    "            # can now compute gradU where gradU[:,:,k]=stochastic gradient of log post wrt U^(k)\n",
    "            gradU=Array(Float64,n,r,D)\n",
    "            for k=1:D\n",
    "                gradU[:,:,k]=reshape((N/batch_size)*Psi[:,:,k]*(y[batch]-fhat)/(2*sigma^2),n,r)\n",
    "            end\n",
    "\n",
    "            # SGLD step on w\n",
    "            w[:]+=epsw*gradw/2 +sqrt(2*epsw)*randn(Q)\n",
    "            w_store[:,numbatches*(epoch-1)+batch]=w\n",
    "            # SGLDERM step on U\n",
    "            for k=1:D\n",
    "                mom=proj(U[:,:,k],sqrt(epsU)*gradU[:,:,k]/2+randn(n,r))\n",
    "                U[:,:,k]+=geod(U[:,:,k],mom,sqrt(epsU))\n",
    "                U_store[:,:,k,numbatches*(epoch-1)+batch]=U[:,:,k]\n",
    "            end\n",
    "        end\n",
    "    end\n",
    "    return w_store,U_store,I\n",
    "end\n",
    "\n",
    "end\n",
    "    \n",
    "    "
   ]
  },
  {
   "cell_type": "code",
   "execution_count": 53,
   "metadata": {
    "collapsed": false
   },
   "outputs": [
    {
     "data": {
      "text/plain": [
       "2-element Array{Int64,1}:\n",
       " 1\n",
       " 2"
      ]
     },
     "execution_count": 53,
     "metadata": {},
     "output_type": "execute_result"
    }
   ],
   "source": [
    "A=zeros(2,3,4);\n",
    "A[1,1,2]=1;\n",
    "A[:,1,2]=[1,2]"
   ]
  },
  {
   "cell_type": "code",
   "execution_count": 1,
   "metadata": {
    "collapsed": false
   },
   "outputs": [
    {
     "data": {
      "text/plain": [
       "1.0"
      ]
     },
     "execution_count": 1,
     "metadata": {},
     "output_type": "execute_result"
    }
   ],
   "source": [
    "floor(1.2)"
   ]
  },
  {
   "cell_type": "code",
   "execution_count": 54,
   "metadata": {
    "collapsed": false
   },
   "outputs": [
    {
     "data": {
      "text/plain": [
       "2x2 Array{Int64,2}:\n",
       " 1  3\n",
       " 2  4"
      ]
     },
     "execution_count": 54,
     "metadata": {},
     "output_type": "execute_result"
    }
   ],
   "source": [
    "A=[1 ,2,3,4];\n",
    "reshape(A,2,2)"
   ]
  },
  {
   "cell_type": "code",
   "execution_count": 15,
   "metadata": {
    "collapsed": false
   },
   "outputs": [
    {
     "data": {
      "text/plain": [
       "3-element Array{Int64,1}:\n",
       " 2\n",
       " 4\n",
       " 1"
      ]
     },
     "execution_count": 15,
     "metadata": {},
     "output_type": "execute_result"
    }
   ],
   "source": [
    "sample(1:5,3,replace=false)"
   ]
  },
  {
   "cell_type": "code",
   "execution_count": 34,
   "metadata": {
    "collapsed": false
   },
   "outputs": [
    {
     "name": "stdout",
     "output_type": "stream",
     "text": [
      "[3 3 5\n",
      " 2 3 3]\n"
     ]
    },
    {
     "data": {
      "text/plain": [
       "3x3 Array{Int64,2}:\n",
       "  2   3   3\n",
       "  7   8   8\n",
       " 12  13  13"
      ]
     },
     "execution_count": 34,
     "metadata": {},
     "output_type": "execute_result"
    }
   ],
   "source": [
    "using Distributions\n",
    "# rand(Distributions.DiscreteUniform(1,r),Q,D) \n",
    "I=rand(Distributions.DiscreteUniform(1,5),2,3)\n",
    "println(I)\n",
    "A=[1 2 3 4 5; 6 7 8 9 10; 11 12 13 14 15]\n",
    "A[:,vec(I[2,:])]"
   ]
  }
 ],
 "metadata": {
  "kernelspec": {
   "display_name": "Julia 0.3.11",
   "language": "julia",
   "name": "julia-0.3"
  },
  "language_info": {
   "file_extension": ".jl",
   "mimetype": "application/julia",
   "name": "julia",
   "version": "0.3.11"
  }
 },
 "nbformat": 4,
 "nbformat_minor": 0
}
