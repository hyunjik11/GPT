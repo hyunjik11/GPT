{
 "cells": [
  {
   "cell_type": "code",
   "execution_count": null,
   "metadata": {
    "collapsed": true
   },
   "outputs": [],
   "source": [
    "type SGLD_state\n",
    "    w::Array{Float64,1} # vector state\n",
    "    eps::Float64\n",
    "    function SGLD_specs(w,eps)\n",
    "      new(w,eps)\n",
    "    end\n",
    "end\n",
    "# stochastic gradient langevin dynamics\n",
    "# grad is a function which returns stochastic gradient given x as input\n",
    "function sgld!(s::SGLD_state, grad::Function)\n",
    "  # stochastic gradient langevin dynamics\n",
    "  s.w[:] += s.eps.* grad(s.w)/2 + sqrt(2.0*s.eps).*randn(length(s.w))\n",
    "end\n",
    "\n",
    "type SGLDERM_state\n",
    "    U::Array{Float64,2} # matrix state\n",
    "    eps::Float64\n",
    "    function SGLDERM_specs(U,eps)\n",
    "        new(U,eps)\n",
    "    end\n",
    "end\n",
    "\n",
    "function sglderm!(s::SGLDERM_state,grad::Function,proj::Function,geod::Function)\n",
    "    # stochastic gradient langevin dynamics for embedded riemannian manifolds\n",
    "    # proj(U,.) is the orthogonal projection onto the tangent space at U.\n",
    "    # geod(U,mom,eps) is the end point of the geodesic flow \n",
    "    # initialised by (U,mom) taken for time eps.\n",
    "    mom=proj(s.U,sqrt(s.eps).*grad(s.U)/2+randn(size(s.U)))\n",
    "    s.U[:]+=geod(s.U,mom,sqrt(s.eps))\n",
    "end\n",
    "\n"
   ]
  },
  {
   "cell_type": "code",
   "execution_count": null,
   "metadata": {
    "collapsed": true
   },
   "outputs": [],
   "source": [
    "function GPT_SGLDERM(phi,sigma,sigma_w,r,Q,eps,num_iterations)\n",
    "    # phi is the n by D by N array of features where phi[,k,i]=phi^(k)(x_i)\n",
    "    # sigma is the noise of the observed values\n",
    "    # sigma_w is the s.d. for the Guassian prior on w\n",
    "    \n",
    "    n,D,N=size(phi)\n",
    "    \n",
    "    #initialise w,U^(k) and compute features\n",
    "    w=Array(Float64,Q,num_iterations)\n",
    "    U=Array(Float64,n,r,D,num_iterations)\n",
    "    w_init=sigma_w*randn(Q)\n",
    "    sw=SGLD_specs(w_init,eps)\n",
    "    sU=Array(SGLDERM_state,D)\n",
    "    for i=1:D\n",
    "        Z=randn(r,n)\n",
    "        U_init=transpose(Z/sqrtm(Z*Z')) #sample uniformly from V_{n,r}\n",
    "        sU[i]=SGLDERM_specs(U_init,eps)\n",
    "    end\n",
    "    \n",
    "    # define functions gradw and gradU - the stochastic gradients\n",
    "    # note gradU is a vector of functions, length D\n",
    "    ###\n",
    "    ###\n",
    "    \n",
    "    # define proj for Stiefel manifold\n",
    "    function proj(U,V)\n",
    "        return V-U*(U'*V+V'*U)/2\n",
    "    end\n",
    "    # define geod for Stiefel manifold\n",
    "    function geod(U,mom,t)\n",
    "        A=U'*mom\n",
    "        temp=[A -mom'*mom;eye(r) A]\n",
    "        E=exp(t*temp)\n",
    "        return [U mom]*E[:,1:r]*exp(-t*A)\n",
    "    end\n",
    "    \n",
    "    for t=1:num_iterations\n",
    "        sgld!(sw,gradw)\n",
    "        w[:,t]=sw.x\n",
    "        for k=1:D\n",
    "            sglderm!(sU[k],gradU[k],proj,geod)\n",
    "            U[:,:,k,t]=sU[k].X\n",
    "        end\n",
    "    end\n",
    "    \n",
    "    "
   ]
  },
  {
   "cell_type": "code",
   "execution_count": 4,
   "metadata": {
    "collapsed": false
   },
   "outputs": [
    {
     "data": {
      "text/plain": [
       "5-element Array{Float64,1}:\n",
       " 1.36929 \n",
       " 1.25125 \n",
       " 1.38218 \n",
       " 0.995391\n",
       " 1.51443 "
      ]
     },
     "execution_count": 4,
     "metadata": {},
     "output_type": "execute_result"
    }
   ],
   "source": [
    "using ForwardDiff\n",
    "f(x::Vector) = sum(sin, x) + prod(tan, x) * sum(sqrt, x);\n",
    "x = rand(5);\n",
    "g = ForwardDiff.gradient(f);\n",
    "g(x)\n"
   ]
  },
  {
   "cell_type": "code",
   "execution_count": 23,
   "metadata": {
    "collapsed": false
   },
   "outputs": [
    {
     "data": {
      "text/plain": [
       "4x4 Array{Int64,2}:\n",
       " 1  2  2  5\n",
       " 2  1  5  2\n",
       " 2  5  1  2\n",
       " 5  2  2  1"
      ]
     },
     "execution_count": 23,
     "metadata": {},
     "output_type": "execute_result"
    }
   ],
   "source": [
    "A=[1 2;2 1];\n",
    "B=[2 5;5 2];\n",
    "C=[A B;B A]"
   ]
  },
  {
   "cell_type": "code",
   "execution_count": 18,
   "metadata": {
    "collapsed": false
   },
   "outputs": [
    {
     "data": {
      "text/plain": [
       "3-element Array{Float64,1}:\n",
       " -0.0735936\n",
       " -0.808726 \n",
       " -1.26918  "
      ]
     },
     "execution_count": 18,
     "metadata": {},
     "output_type": "execute_result"
    }
   ],
   "source": [
    "function foo1(x)\n",
    "    return randn(1)\n",
    "end\n",
    "[foo1(1),foo1(2),foo1(1)]"
   ]
  },
  {
   "cell_type": "code",
   "execution_count": 25,
   "metadata": {
    "collapsed": false
   },
   "outputs": [
    {
     "data": {
      "text/plain": [
       "1.5"
      ]
     },
     "execution_count": 25,
     "metadata": {},
     "output_type": "execute_result"
    }
   ],
   "source": [
    "3/2"
   ]
  }
 ],
 "metadata": {
  "kernelspec": {
   "display_name": "Julia 0.3.11",
   "language": "julia",
   "name": "julia-0.3"
  },
  "language_info": {
   "file_extension": ".jl",
   "mimetype": "application/julia",
   "name": "julia",
   "version": "0.3.11"
  }
 },
 "nbformat": 4,
 "nbformat_minor": 0
}
