{
 "cells": [
  {
   "cell_type": "code",
   "execution_count": 121,
   "metadata": {
    "collapsed": false
   },
   "outputs": [],
   "source": [
    "#implementation with batches\n",
    "using Distributions\n",
    "using GaussianProcess\n",
    "\n",
    "# define proj for Stiefel manifold\n",
    "function proj(U,V)\n",
    "    return V-U*(U'*V+V'*U)/2\n",
    "end\n",
    "\n",
    "# define geod for Stiefel manifold\n",
    "function geod(U,mom,t)\n",
    "    n,r=size(U)\n",
    "    A=U'*mom\n",
    "    temp=[A -mom'*mom;eye(r) A]\n",
    "    E=expm(t*temp)\n",
    "    return [U mom]*E[:,1:r]*expm(-t*A)\n",
    "end\n",
    "\n",
    "function datawhitening(X) \n",
    "    for i = 1:size(X,2)   \n",
    "        X[:,i] = (X[:,i] - mean(X[:,i]))/std(X[:,i])   \n",
    "    end\n",
    "    return X\n",
    "end\n",
    "\n",
    "function feature(X,n,sigmaRBF,seed)\n",
    "    srand(seed)\n",
    "    N,D=size(X)\n",
    "    phi=Array(Float64,D,n,N)\n",
    "    for i=1:N\n",
    "        Z=randn(D,n)/sigmaRBF\n",
    "    b=rand(D,n)\n",
    "    x=repmat(X[i,:],n,1)\n",
    "    phi[:,:,i]=sqrt(2/n)*cos(x'.*Z+b*2*pi)\n",
    "    end\n",
    "    return phi\n",
    "end\n",
    "\n",
    "#compute predictions from w,U,I\n",
    "function pred(w,U,I,phitest)\n",
    "    D,n,test_size=size(phitest)\n",
    "    Q=length(w)\n",
    "    r=size(U,2)\n",
    "    temp=Array(Float64,D,r,test_size)\n",
    "    # compute V st V[q,i]=prod_{k=1 to D}(temp[k,I[q,k],i])\n",
    "    V=Array(Float64,Q,N)\n",
    "    # compute fhat where fhat[i]=V[:,i]'w\n",
    "    fhat=Array(Float64,test_size)\n",
    "    for i=1:test_size\n",
    "        for k=1:D\n",
    "            temp[k,:,i]=phitest[k,:,i]*U[:,:,k] \n",
    "        end\n",
    "        for q=1:Q\n",
    "            V[q,i]=prod(diag(temp[:,vec(I[q,:]),i]))\n",
    "        end\n",
    "        fhat[i]=dot(V[:,i],w)\n",
    "    end\n",
    "    return fhat\n",
    "end\n",
    "\n",
    "function GPT_SGLDERMtest(phi::Array,y::Array,sigma::Real,sigma_w::Real,r::Integer,Q::Integer,m::Integer,epsw::Real,epsU::Real,maxepoch::Integer)\n",
    "    # phi is the D by n by N array of features where phi[k,:,i]=phi^(k)(x_i)\n",
    "    # sigma is the s.d. of the observed values\n",
    "    # sigma_w is the s.d. for the Guassian prior on w\n",
    "    # epsw,epsU are the epsilons for w and U resp.\n",
    "    # maxepoch is the number of sweeps through whole dataset\n",
    "    \n",
    "    D,n,N=size(phi)\n",
    "    numbatches=int(ceil(N/m))\n",
    "    \n",
    "    # initialise w,U^(k)\n",
    "    w_store=Array(Float64,Q,numbatches*maxepoch)\n",
    "    U_store=Array(Float64,n,r,D,numbatches*maxepoch)\n",
    "    w=sigma_w*randn(Q)\n",
    "    U=Array(Float64,n,r,D)\n",
    "    for k=1:D\n",
    "        Z=randn(r,n)\n",
    "        U[:,:,k]=transpose(\\(sqrtm(Z*Z'),Z)) #sample uniformly from V_{n,r}\n",
    "    end\n",
    "    \n",
    "    # fix the random non-zero locations of w\n",
    "    I=rand(DiscreteUniform(1, r),Q,D) \n",
    "    # so I_qd=index of dth dim of qth non-zero\n",
    "    \n",
    "    for epoch=1:maxepoch\n",
    "        #randomly permute training data and divide into mini_batches of size m\n",
    "        perm=randperm(N)\n",
    "        phi=phi[:,:,perm]; y=y[perm];\n",
    "        \n",
    "        # run SGLD on w and SGLDERM on U\n",
    "        for batch=1:numbatches\n",
    "            # random samples for the stochastic gradient\n",
    "            idx=(m*(batch-1)+1):min(m*batch,N)\n",
    "            phi_batch=phi[:,:,idx]; y_batch=y[idx];\n",
    "            batch_size=length(idx) #this is m except for last batch\n",
    "            # compute <phi^(k)(x_i),U^(k)_{.l}> for all k,l,batch and store in temp\n",
    "            temp=Array(Float64,D,r,batch_size)\n",
    "            # compute V st V[q,i]=prod_{k=1 to D}(temp[k,I[q,k],i])\n",
    "            V=Array(Float64,Q,batch_size)\n",
    "            # compute fhat where fhat[i]=V[:,i]'w\n",
    "            fhat=Array(Float64,batch_size)\n",
    "            for i=1:batch_size\n",
    "                for k=1:D\n",
    "                    temp[k,:,i]=phi_batch[k,:,i]*U[:,:,k] \n",
    "                end\n",
    "                for q=1:Q\n",
    "                    V[q,i]=prod(diag(temp[:,vec(I[q,:]),i]))\n",
    "                end\n",
    "                fhat[i]=dot(V[:,i],w)\n",
    "            end\n",
    "\n",
    "            # now can compute gradw, the stochastic gradient of log post wrt w\n",
    "            gradw=((N/batch_size)*V*(y_batch-fhat)-w)/(2*sigma_w^2)\n",
    "\n",
    "            # compute U_phi[q,i,k]=expression in big brackets in (11)\n",
    "            U_phi=Array(Float64,Q,batch_size,D)\n",
    "            for k=1:D\n",
    "                U_phi[:,:,k]=V./reshape(temp[k,I[:,k],:],Q,batch_size)\n",
    "            end\n",
    "\n",
    "            # now compute a_l^(k)(x_i) for l=1,...,r k=1,..,D and store in A\n",
    "            A=zeros(r,D,batch_size)\n",
    "            for i=1:batch_size\n",
    "                for k=1:D\n",
    "                    for l in unique(I[:,k])\n",
    "                        index=findin(I[:,k],l) #I_l\n",
    "                        A[l,:,i]=transpose(reshape(U_phi[index,i,:],length(index),D))*w[index] \n",
    "                    end\n",
    "                end\n",
    "            end\n",
    "\n",
    "            # compute Psi as in (12)\n",
    "            Psi=Array(Float64,n*r,batch_size,D)\n",
    "            for i=1:batch_size\n",
    "                for k=1:D\n",
    "                    Psi[:,i,k]=kron(A[:,k,i],vec(phi_batch[k,:,i]))\n",
    "                end\n",
    "            end\n",
    "\n",
    "            # can now compute gradU where gradU[:,:,k]=stochastic gradient of log post wrt U^(k)\n",
    "            gradU=Array(Float64,n,r,D)\n",
    "            for k=1:D\n",
    "                gradU[:,:,k]=reshape((N/batch_size)*Psi[:,:,k]*(y[batch]-fhat)/(2*sigma^2),n,r)\n",
    "            end\n",
    "\n",
    "            # SGLD step on w\n",
    "            w[:]+=epsw*gradw/2 +sqrt(2*epsw)*randn(Q)\n",
    "            w_store[:,numbatches*(epoch-1)+batch]=w\n",
    "            # SGLDERM step on U\n",
    "            for k=1:D\n",
    "                mom=proj(U[:,:,k],sqrt(epsU)*gradU[:,:,k]/2+randn(n,r))\n",
    "                U[:,:,k]=geod(U[:,:,k],mom,sqrt(epsU))\n",
    "                U_store[:,:,k,numbatches*(epoch-1)+batch]=U[:,:,k]\n",
    "            end\n",
    "        end\n",
    "    end\n",
    "    return w_store,U_store,I\n",
    "end\n",
    "\n",
    "\n",
    "\n",
    "\n",
    "f=SECov(1.4,1)\n",
    "gp=GP(0,f,4)\n",
    "N=1000;\n",
    "x1=rand(Uniform(0,50),N);\n",
    "x2=rand(Uniform(30,100),N);\n",
    "x3=rand(Uniform(1000,1020),N);\n",
    "x4=rand(Uniform(50,100),N);\n",
    "X=[x1 x2 x3 x4];\n",
    "X=datawhitening(X);\n",
    "y=GPrand(gp,X);\n",
    "Xtrain=X[1:N/2,:]; ytrain=y[1:N/2];\n",
    "Xtest=X[N/2+1:end,:]; ytest=y[N/2+1:end];\n",
    "seed=17;\n",
    "phitrain=feature(Xtrain,30,1.4,seed);\n",
    "phitest=feature(Xtest,30,1.4,seed);\n",
    "\n",
    "\n",
    "    \n",
    "    "
   ]
  },
  {
   "cell_type": "code",
   "execution_count": 122,
   "metadata": {
    "collapsed": false,
    "scrolled": true
   },
   "outputs": [
    {
     "data": {
      "text/plain": [
       "0.9516100852074018"
      ]
     },
     "execution_count": 122,
     "metadata": {},
     "output_type": "execute_result"
    }
   ],
   "source": [
    "w_store,U_store,I=GPT_SGLDERMtest(phitrain,ytrain,0.2,1.4,10,100,100,0.01,0.01,3);\n",
    "\n",
    "T=size(w_store,2);\n",
    "fhat=pred(w_store[:,T],U_store[:,:,:,T],I,phitest);\n",
    "norm(ytest-fhat)/sqrt(N/2)\n"
   ]
  },
  {
   "cell_type": "code",
   "execution_count": 118,
   "metadata": {
    "collapsed": false,
    "scrolled": true
   },
   "outputs": [
    {
     "data": {
      "text/plain": [
       "1.520196859814079"
      ]
     },
     "execution_count": 118,
     "metadata": {},
     "output_type": "execute_result"
    }
   ],
   "source": [
    "norm(ytest-randn(500))/sqrt(N/2)"
   ]
  },
  {
   "cell_type": "code",
   "execution_count": 107,
   "metadata": {
    "collapsed": false
   },
   "outputs": [
    {
     "data": {
      "text/plain": [
       "13.999999999999996"
      ]
     },
     "execution_count": 107,
     "metadata": {},
     "output_type": "execute_result"
    }
   ],
   "source": [
    "norm([1,2,3])^2"
   ]
  },
  {
   "cell_type": "code",
   "execution_count": 91,
   "metadata": {
    "collapsed": false
   },
   "outputs": [
    {
     "data": {
      "text/plain": [
       "5x5 Array{Float64,2}:\n",
       " -2.27374e-15  -2.22045e-16  2.22045e-16  -1.11022e-15  4.44089e-16\n",
       " -2.22045e-16  -3.47615e-16  2.10942e-15  -6.66134e-16  0.0        \n",
       "  2.22045e-16   2.10942e-15  4.8756e-16    2.44249e-15  1.33227e-15\n",
       " -1.11022e-15  -6.66134e-16  2.44249e-15  -4.01747e-15  6.66134e-16\n",
       "  6.52256e-16   0.0          1.27676e-15   8.88178e-16  1.394e-16  "
      ]
     },
     "execution_count": 91,
     "metadata": {},
     "output_type": "execute_result"
    }
   ],
   "source": [
    "\n",
    "\n"
   ]
  },
  {
   "cell_type": "code",
   "execution_count": 104,
   "metadata": {
    "collapsed": false
   },
   "outputs": [
    {
     "name": "stdout",
     "output_type": "stream",
     "text": [
      "[0.7684476751965699 0.6739586945680673\n",
      " 0.940515000715187 0.3954531123351086]\n",
      "[0.7684476751965699 0.6739586945680673\n",
      " 0.940515000715187 0.3954531123351086]\n",
      "[0.7684476751965699 0.6739586945680673\n",
      " 0.940515000715187 0.3954531123351086]\n",
      "[0.7684476751965699 0.6739586945680673\n",
      " 0.940515000715187 0.3954531123351086]\n",
      "[0.7684476751965699 0.6739586945680673\n",
      " 0.940515000715187 0.3954531123351086]\n"
     ]
    }
   ],
   "source": [
    "function foo(seed)\n",
    "        srand(seed)\n",
    "        println(rand(2,2))\n",
    "end\n",
    "for i=1:5\n",
    "foo(123)\n",
    "end"
   ]
  },
  {
   "cell_type": "code",
   "execution_count": 34,
   "metadata": {
    "collapsed": false
   },
   "outputs": [
    {
     "name": "stdout",
     "output_type": "stream",
     "text": [
      "[3 3 5\n",
      " 2 3 3]\n"
     ]
    },
    {
     "data": {
      "text/plain": [
       "3x3 Array{Int64,2}:\n",
       "  2   3   3\n",
       "  7   8   8\n",
       " 12  13  13"
      ]
     },
     "execution_count": 34,
     "metadata": {},
     "output_type": "execute_result"
    }
   ],
   "source": [
    "using Distributions\n",
    "# rand(Distributions.DiscreteUniform(1,r),Q,D) \n",
    "I=rand(Distributions.DiscreteUniform(1,5),2,3)\n",
    "println(I)\n",
    "A=[1 2 3 4 5; 6 7 8 9 10; 11 12 13 14 15]\n",
    "A[:,vec(I[2,:])]"
   ]
  }
 ],
 "metadata": {
  "kernelspec": {
   "display_name": "Julia 0.3.11",
   "language": "julia",
   "name": "julia-0.3"
  },
  "language_info": {
   "file_extension": ".jl",
   "mimetype": "application/julia",
   "name": "julia",
   "version": "0.3.11"
  }
 },
 "nbformat": 4,
 "nbformat_minor": 0
}
