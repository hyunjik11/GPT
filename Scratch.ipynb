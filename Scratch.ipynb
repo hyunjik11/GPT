{
 "cells": [
  {
   "cell_type": "code",
   "execution_count": null,
   "metadata": {
    "collapsed": true
   },
   "outputs": [],
   "source": [
    "\n",
    "type SGLD_state\n",
    "    w::Array{Float64,1} # vector state\n",
    "    eps::Float64\n",
    "    function SGLD_specs(w,eps)\n",
    "      new(w,eps)\n",
    "    end\n",
    "end\n",
    "# stochastic gradient langevin dynamics\n",
    "# grad is a function which returns stochastic gradient given x as input\n",
    "function sgld!(s::SGLD_state, grad::Function)\n",
    "  # stochastic gradient langevin dynamics\n",
    "  s.w[:] += s.eps.* grad(s.w)/2 + sqrt(2.0*s.eps).*randn(length(s.w))\n",
    "end\n",
    "\n",
    "type SGLDERM_state\n",
    "    U::Array{Float64,2} # matrix state\n",
    "    eps::Float64\n",
    "    function SGLDERM_specs(U,eps)\n",
    "        new(U,eps)\n",
    "    end\n",
    "end\n",
    "\n",
    "function sglderm!(s::SGLDERM_state,grad::Function,proj::Function,geod::Function)\n",
    "    # stochastic gradient langevin dynamics for embedded riemannian manifolds\n",
    "    # proj(U,.) is the orthogonal projection onto the tangent space at U.\n",
    "    # geod(U,mom,eps) is the end point of the geodesic flow \n",
    "    # initialised by (U,mom) taken for time eps.\n",
    "    mom=proj(s.U,sqrt(s.eps).*grad(s.U)/2+randn(size(s.U)))\n",
    "    s.U[:]+=geod(s.U,mom,sqrt(s.eps))\n",
    "end  "
   ]
  }
 ],
 "metadata": {
  "kernelspec": {
   "display_name": "Julia 0.3.11",
   "language": "julia",
   "name": "julia-0.3"
  },
  "language_info": {
   "file_extension": ".jl",
   "mimetype": "application/julia",
   "name": "julia",
   "version": "0.3.11"
  }
 },
 "nbformat": 4,
 "nbformat_minor": 0
}
